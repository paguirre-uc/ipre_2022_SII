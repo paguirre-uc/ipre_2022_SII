{
 "cells": [
  {
   "cell_type": "markdown",
   "metadata": {},
   "source": [
    "# Analisis de las bases de datos del SII correspondientes a los años 2018 y 2022"
   ]
  },
  {
   "cell_type": "markdown",
   "metadata": {},
   "source": [
    "#### Analisis de los datos del SII: 2018 y 2022"
   ]
  },
  {
   "cell_type": "code",
   "execution_count": null,
   "metadata": {},
   "outputs": [],
   "source": [
    "import pandas as pd\n",
    "import datatable as dt\n",
    "import numpy as np\n",
    "pd.options.display.max_columns = None\n",
    "path_año_antiguo = \"BRORGA2441_NAC_2018_1/BRORGA2441N_NAC_2018_1\"\n",
    "path_año_antiguo_lc = \"BRORGA2441_NAC_2018_1/BRORGA2441NL_NAC_2018_1\"\n",
    "path_año_nuevo = \"BRORGA2441_NAC_2022_1/BRORGA2441N_NAC_2022_1\"\n",
    "path_año_nuevo_lc = \"BRORGA2441_NAC_2022_1/BRORGA2441NL_NAC_2022_1\"\n",
    "dt_antiguo = dt.fread(path_año_antiguo, encoding = 'latin')\n",
    "dt_antiguo_lc = dt.fread(path_año_antiguo_lc, encoding = 'latin')\n",
    "dt_nuevo = dt.fread(path_año_nuevo, encoding = \"latin\")\n",
    "dt_nuevo_lc = dt.fread(path_año_nuevo_lc, encoding = 'latin')\n",
    "#Nota 1: en las bases de datos con las lineas de construccion aparece un rol de destino tipo X, este rol seguramente fue un error de tipeo ya que siempre aparece en la otra base como un rol tipo C y aparte la X esta al lado de la tecla C"
   ]
  },
  {
   "cell_type": "code",
   "execution_count": null,
   "metadata": {},
   "outputs": [],
   "source": [
    "#diccionarios utilizados para remplazar los codigos de las columnas por los nombres y algunos roles\n",
    "codigo_a_comuna = pd.concat(pd.read_html('https://zeus.sii.cl/avalu_cgi/br/brch10.sh', match = 'Nombre Comuna', header = 0, index_col = 0)[1:3])['Nombre Comuna']\n",
    "año_antiguo = path_año_antiguo[-6: -2]\n",
    "año_nuevo = path_año_nuevo[-6: -2]\n",
    "codigo_a_rol = {\n",
    "    'A': 'Agrícola',\n",
    "    'B': 'Agroindustrial',\n",
    "    'C': 'Comercio',\n",
    "    'D': 'Deporte y Recreación',\n",
    "    'E': 'Educación y Cultura',\n",
    "    'F': 'Forestal',\n",
    "    'G': 'Hotel, Motel',\n",
    "    'H': 'Habitacional',\n",
    "    'I': 'Industria',\n",
    "    'L': 'Bodega y Almacenaje',\n",
    "    'M': 'Minería',\n",
    "    'O': 'Oficina',\n",
    "    'P': 'Administración Pública y Defensa',\n",
    "    'Q': 'Culto',\n",
    "    'S': 'Salud',\n",
    "    'T': 'Transporte y Telecomunicaciones',\n",
    "    'V': 'Otros no considerados',\n",
    "    'W': 'Sitio Eriazo',\n",
    "    'Y': 'Gallineros, chancheras y otros',\n",
    "    'Z': 'Estacionamiento'\n",
    "    }\n",
    "\n",
    "columnas_n_nac = {\n",
    "    'C0': 'Comuna',\n",
    "    'C1': 'numero_manzana',\n",
    "    'C2': 'numero_predial',\n",
    "    'C3': 'direccion_o_nombre_del_predio',\n",
    "    'C6': 'Código_de_destino_principal',\n",
    "    'C14': 'Superficie_terreno_'}"
   ]
  },
  {
   "cell_type": "markdown",
   "metadata": {},
   "source": [
    "### Funciones definidas:\n",
    "##### -superficie_nac: deja solo las columnas C0 (los codigos de las comunas) y C14 (superficie de los terrenos) y las agrupa en torno a las comunas, sumando todo los metros cuadrados.\n",
    "##### -man_pre: deja las columnas de Comuna, manzana, predio, direccion, codigo de rol y superficie del terreno. La idea es poder buscar la direccion de un predio, rol y superficie a partir de la comuna, manzana y predio.\n",
    "##### -codigo_lc: permite la visualizacion de un archivo con los codigos de las lineas de contruccion como columnas, con una columna extra con las sumas de las areas de cada comuna.\n",
    "##### -comparacion_comuna: agrupa las areas de las superficies por comuna y año, agrega una columna con una diferencia entre los años.\n",
    "##### -comparacion_lc: hay 2 opciones:\n",
    "##### -1) negativos = False: muestra la diferencia entre los años por comuna y rol. \n",
    "##### -2) negativos = True: muestra solo las comunas que tienen por lo menos una diferencia en un rol que fue negativo."
   ]
  },
  {
   "cell_type": "code",
   "execution_count": null,
   "metadata": {},
   "outputs": [],
   "source": [
    "def superficie_nac(data, fecha, nombre = False):\n",
    "    fecha = 'Superficie_total_' + str(fecha)\n",
    "    data = data[:, [0, 14]]\n",
    "    data.names = {\"C0\" : \"Comuna\", 'C14': 'Superficie_total_'}\n",
    "    data = data[:, dt.sum(dt.f.Superficie_total_), dt.by(dt.f.Comuna)]\n",
    "    data = data.to_pandas()\n",
    "    data = data.rename(columns = {'Superficie_total_': fecha})\n",
    "    if nombre == True:\n",
    "        data['Comuna'] = data['Comuna'].replace(codigo_a_comuna)\n",
    "    return data\n",
    "\n",
    "def man_pre(data, fecha, nombre = False, destino = False):\n",
    "    fecha = 'Superficie_terreno_' + str(fecha)\n",
    "    data = data[:, [0, 1, 2, 3, 6, 14]]\n",
    "    data.names = columnas_n_nac\n",
    "    data.names = {'Superficie_terreno_': fecha}\n",
    "    data = data.to_pandas()\n",
    "    if nombre == True:\n",
    "        data['Comuna'] = data['Comuna'].replace(codigo_a_comuna)\n",
    "    if destino == True:\n",
    "        data['Código_de_destino_principal'] = data['Código_de_destino_principal'].replace(codigo_a_rol)\n",
    "    return data\n",
    "\n",
    "def codigo_lc(data, año, nombre = False):\n",
    "    DT = data.copy(deep = True)\n",
    "    del data\n",
    "    DT.names = {\"C0\": \"Comuna\", \n",
    "                     \"C7\": \"superficie_lineas_construccion\",\n",
    "                     \"C8\": \"codigo_destino_linea_construccion\"}\n",
    "    DT = DT[:, ['Comuna','superficie_lineas_construccion','codigo_destino_linea_construccion']]\n",
    "    DT = DT[:, dt.sum(dt.f.superficie_lineas_construccion), dt.by(\"Comuna\", \"codigo_destino_linea_construccion\")].to_pandas().replace(to_replace = '', value = 'Otro (Desconocido)')\n",
    "    DT = DT.set_index('Comuna')\n",
    "    DT['codigo_destino_linea_construccion'] = DT['codigo_destino_linea_construccion'].replace(to_replace = 'X', value = 'C')\n",
    "    DT = DT.pivot_table(index = 'Comuna',columns = 'codigo_destino_linea_construccion', values = ['superficie_lineas_construccion'], aggfunc = 'sum').fillna(0).astype(int)\n",
    "    columnas = DT.columns.tolist()\n",
    "    cols = columnas[:-6] + columnas[-5:-1]\n",
    "    cols.append(columnas[-6])\n",
    "    cols.append(columnas[-1])\n",
    "    DT = DT[cols].loc[:, 'superficie_lineas_construccion']\n",
    "    DT.rename(columns = codigo_a_rol, inplace = True)\n",
    "    DT.columns.name = None\n",
    "    DT = DT.reset_index()\n",
    "    DT['suma_predios_' + año] = DT.sum(axis = 1)\n",
    "    if nombre == True:\n",
    "        DT['Comuna'] = DT['Comuna'].replace(codigo_a_comuna)\n",
    "    return DT\n",
    "\n",
    "def comparacion_comuna(data_1, data_2, a_a, a_n, nombre = False):\n",
    "    data_cl_1 = superficie_nac(data_1, a_a)\n",
    "    data_cl_2 = superficie_nac(data_2, a_n)\n",
    "    df_1_2 = pd.concat([data_cl_1, data_cl_2], axis = 1).iloc[:, [0, 1, 3]]\n",
    "    df_1_2['diferencia_superficies'] = df_1_2.iloc[:, -1] - df_1_2.iloc[:, -2] \n",
    "    if nombre == True:\n",
    "        df_1_2['Comuna'] = df_1_2['Comuna'].replace(codigo_a_comuna)\n",
    "    return df_1_2\n",
    "\n",
    "def comparacion_lc(data_1_lc, data_2_lc, a_a, a_n, nombre = False, negativos = False):\n",
    "    df_sum = codigo_lc(data_1_lc, a_a, nombre).copy()\n",
    "    df_negativos = codigo_lc(data_2_lc, a_n, nombre).copy()\n",
    "    x = 0\n",
    "    z = 0\n",
    "    for x in range(1, len(df_negativos.columns)):\n",
    "        for ind in df_negativos.index:\n",
    "            diferencia = df_negativos.iloc[ind, x] - df_sum.iloc[ind, x]\n",
    "            df_sum.iloc[ind, x] = diferencia\n",
    "            if diferencia < 0:\n",
    "                df_negativos.iloc[ind, x] = diferencia\n",
    "            else:\n",
    "                df_negativos.iloc[ind, x] = 0\n",
    "    df_sum['diferencia_suma_de_codigos'] = df_sum.iloc[:, -1]\n",
    "    df_sum.drop(columns = 'suma_predios_2018', inplace = True)\n",
    "    df_sum.rename(columns = {'comuna': 'Comuna'}, inplace = True)\n",
    "    if nombre == True:\n",
    "        df_sum['Comuna'] = df_sum['Comuna'].replace(codigo_a_comuna)\n",
    "    if negativos == True:\n",
    "        rows_drop = []\n",
    "        for ind in df_negativos.index:\n",
    "            for z in range(1, len(df_negativos.columns)):\n",
    "                celda = df_negativos.iloc[ind, z]\n",
    "                if celda != 0:\n",
    "                    rows_drop.append(ind)\n",
    "                    continue\n",
    "        rows_drop = list(dict.fromkeys(rows_drop))\n",
    "        resultado = df_negativos.iloc[rows_drop, :]\n",
    "        return resultado\n",
    "    return df_sum\n"
   ]
  },
  {
   "cell_type": "markdown",
   "metadata": {},
   "source": [
    "### informacion de un predio a partir de la comuna, numero de manzana y numero predial"
   ]
  },
  {
   "cell_type": "code",
   "execution_count": null,
   "metadata": {},
   "outputs": [],
   "source": [
    "df1 = man_pre(dt_antiguo, año_antiguo, nombre = True, destino = True)\n",
    "df1"
   ]
  },
  {
   "cell_type": "code",
   "execution_count": null,
   "metadata": {},
   "outputs": [],
   "source": [
    "if type(df1['Comuna'][0]) == np.intc :\n",
    "    comuna = int(input('Codigo de la comuna a comparar: '))\n",
    "elif type(df1['Comuna'][0]) == str :\n",
    "    comuna = input('Nombre de la comuna a comparar: ').upper()\n",
    "manzana = int(input('Ingresa un numero de manzana: '))\n",
    "predial = int(input('Ingresa un numero de predio: '))\n",
    "tdf = df1.loc[df1.Comuna == comuna, :]\n",
    "tdf = tdf.loc[tdf.numero_manzana == manzana]\n",
    "display(tdf.loc[tdf.numero_predial == predial, :])"
   ]
  },
  {
   "cell_type": "code",
   "execution_count": null,
   "metadata": {},
   "outputs": [],
   "source": [
    "df2 = man_pre(dt_nuevo, año_nuevo, nombre = True, destino = True)\n",
    "df2"
   ]
  },
  {
   "cell_type": "code",
   "execution_count": null,
   "metadata": {},
   "outputs": [],
   "source": [
    "if type(df2['Comuna'][0]) == np.intc :\n",
    "    comuna = int(input('Codigo de la comuna a comparar: '))\n",
    "elif type(df2['Comuna'][0]) == str :\n",
    "    comuna = input('Nombre de la comuna a comparar: ').upper()\n",
    "manzana = int(input('Ingresa un numero de manzana: '))\n",
    "predial = int(input('Ingresa un numero de predio: '))\n",
    "tdf = df2.loc[df2.Comuna == comuna, :]\n",
    "tdf = tdf.loc[tdf.numero_manzana == manzana]\n",
    "display(tdf.loc[tdf.numero_predial == predial, :])"
   ]
  },
  {
   "cell_type": "markdown",
   "metadata": {},
   "source": [
    "### Suma de las superficies construidas por comuna\n",
    "#### areas en metros cuadrados "
   ]
  },
  {
   "cell_type": "code",
   "execution_count": null,
   "metadata": {},
   "outputs": [],
   "source": [
    "df_union = comparacion_comuna(dt_antiguo, dt_nuevo, año_antiguo, año_nuevo, nombre = True)\n",
    "df_union"
   ]
  },
  {
   "cell_type": "code",
   "execution_count": null,
   "metadata": {},
   "outputs": [],
   "source": [
    "display(df_union.loc[df_union.diferencia_superficies < 0, :]) \n",
    "#comunas con las diferencias negativas, osea que con el paso del tiempo disminuyerin su superficie contruida entre los años 2018 y 2022"
   ]
  },
  {
   "cell_type": "markdown",
   "metadata": {},
   "source": [
    "#### Comparacion de las superficies construidas"
   ]
  },
  {
   "cell_type": "code",
   "execution_count": null,
   "metadata": {},
   "outputs": [],
   "source": [
    "if type(df_union['Comuna'][0]) == np.intc :\n",
    "    comuna = int(input('Codigo de la comuna a comparar: '))\n",
    "    tipo = 'la comuna de codigo'\n",
    "elif type(df_union['Comuna'][0]) == str :\n",
    "    comuna = input('Nombre de la comuna a comparar: ').upper()\n",
    "    tipo = 'comuna'\n",
    "df_1 = df_union.iloc[:, [-4, -3]]\n",
    "df_2 = df_union.iloc[:, [-4, -2]]\n",
    "df_1 = df_1.loc[df_1.Comuna == comuna].iloc[0][-1]\n",
    "df_2 = df_2.loc[df_2.Comuna == comuna].iloc[0][-1]\n",
    "print(f'Area total de {tipo} {comuna} para la base de datos del año {año_antiguo}: {df_1} m^2')\n",
    "print(f'Area total de la {tipo} {comuna} para la base de datos del año {año_nuevo}: {df_2} m^2')\n",
    "print(f'Diferencia entre las areas entre el {año_antiguo} y el {año_nuevo}: {df_2 - df_1} m^2')\n",
    "print(f'Porcentaje de aumento: {(df_2 - df_1)/df_1 * 100}%')\n",
    "if ((df_2 - df_1)/df_1 * 100) < 0:\n",
    "    print(f'{tipo.upper()} {comuna} DISMINUYO SU SUPERFICIE ENTRE LOS AÑOS {año_antiguo} y {año_nuevo}')"
   ]
  },
  {
   "cell_type": "markdown",
   "metadata": {},
   "source": [
    "### Comparacion de los roles de construccion y lineas de construccion"
   ]
  },
  {
   "cell_type": "code",
   "execution_count": null,
   "metadata": {},
   "outputs": [],
   "source": [
    "data_2018 = codigo_lc(dt_antiguo_lc, año_antiguo).set_index('Comuna').join(superficie_nac(dt_antiguo, año_antiguo).set_index('Comuna')).reset_index()\n",
    "display(data_2018) #dataframe con la cantidad de metros cuadrados construidos por comuna y rol en el año 2018\n",
    "data_2022 = codigo_lc(dt_nuevo_lc, año_nuevo).set_index('Comuna').join(superficie_nac(dt_nuevo, año_nuevo).set_index('Comuna')).reset_index()\n",
    "display(data_2022) #dataframe con la cantidad de metros cuadrados construidos por comuna y rol en el año 2022"
   ]
  },
  {
   "cell_type": "code",
   "execution_count": null,
   "metadata": {},
   "outputs": [],
   "source": [
    "df_comparacion = comparacion_lc(dt_antiguo_lc, dt_nuevo_lc, año_antiguo, año_nuevo, nombre = True)\n",
    "df_comparacion #dataframe con las diferencias de area entre el 2022 y 2018, tambien por comuna y rol"
   ]
  },
  {
   "cell_type": "code",
   "execution_count": null,
   "metadata": {},
   "outputs": [],
   "source": [
    "df_negativos = comparacion_lc(dt_antiguo_lc, dt_nuevo_lc, año_antiguo, año_nuevo, nombre = True, negativos = True)\n",
    "df_negativos #Dataframe con todas las comunas que tuvieron por lo menos un rol que fue negativo (osea que del año 2018 al 2022 disminuyo la cantidad construida para un determinado rol)"
   ]
  }
 ],
 "metadata": {
  "kernelspec": {
   "display_name": "Python 3.9.12 ('satelites')",
   "language": "python",
   "name": "python3"
  },
  "language_info": {
   "codemirror_mode": {
    "name": "ipython",
    "version": 3
   },
   "file_extension": ".py",
   "mimetype": "text/x-python",
   "name": "python",
   "nbconvert_exporter": "python",
   "pygments_lexer": "ipython3",
   "version": "3.9.12"
  },
  "orig_nbformat": 4,
  "vscode": {
   "interpreter": {
    "hash": "6d977204c3d49986945139bc96ab95cd56459e919b234540af4e8f47da8fc8ec"
   }
  }
 },
 "nbformat": 4,
 "nbformat_minor": 2
}
